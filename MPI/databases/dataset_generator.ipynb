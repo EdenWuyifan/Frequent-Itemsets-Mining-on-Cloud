{
 "cells": [
  {
   "cell_type": "markdown",
   "metadata": {},
   "source": [
    "# DataGenerator"
   ]
  },
  {
   "cell_type": "code",
   "execution_count": 8,
   "metadata": {},
   "outputs": [],
   "source": [
    "import sys\n",
    "import os\n",
    "import random"
   ]
  },
  {
   "cell_type": "code",
   "execution_count": 9,
   "metadata": {},
   "outputs": [],
   "source": [
    "TRX = 1000000\n",
    "ITM = 1000\n",
    "AVG_LEN = 50\n",
    "AGG = 20\n",
    "NAME = \"test.txt\""
   ]
  },
  {
   "cell_type": "code",
   "execution_count": 6,
   "metadata": {},
   "outputs": [],
   "source": [
    "# Completely random\n",
    "f = open(NAME, \"w\")\n",
    "\n",
    "for i in range(TRX):\n",
    "    line = \"\"\n",
    "    for j in range(random.randint(AVG_LEN-AGG,AVG_LEN+AGG)):\n",
    "        item = random.randint(1,ITM)\n",
    "        line += (str(item)+\" \")\n",
    "    line += \"\\n\"\n",
    "    f.write(line)            \n",
    "f.close()"
   ]
  },
  {
   "cell_type": "code",
   "execution_count": 10,
   "metadata": {},
   "outputs": [
    {
     "name": "stdout",
     "output_type": "stream",
     "text": [
      "1000000\n"
     ]
    }
   ],
   "source": [
    "# Not random\n",
    "FRE = 20\n",
    "LEN = 0\n",
    "f = open(NAME, \"w\")\n",
    "\n",
    "\n",
    "\n",
    "for l in range(FRE-1):\n",
    "    trx_lst = []\n",
    "    curr_len = random.randint(AVG_LEN-AGG,AVG_LEN+AGG)\n",
    "    for j in range(curr_len):\n",
    "        item = random.randint(1,ITM)\n",
    "        trx_lst.append(item)\n",
    "    for i in range(TRX//FRE):\n",
    "        LEN+=1\n",
    "        if random.randint(0,1):\n",
    "            trx_lst[random.randint(0,curr_len-1)] += 1\n",
    "        temp_lst = [str(int) for int in trx_lst]\n",
    "        line = \" \".join(temp_lst)\n",
    "        line += \"\\n\"\n",
    "        #print(line)\n",
    "        f.write(line)\n",
    "\n",
    "trx_lst = []\n",
    "curr_len = random.randint(AVG_LEN-AGG,AVG_LEN+AGG)\n",
    "for j in range(curr_len):\n",
    "    item = random.randint(1,ITM)\n",
    "    trx_lst.append(item)\n",
    "for i in range(TRX - (TRX//FRE)*(FRE-1)):\n",
    "    LEN+=1\n",
    "    if random.randint(0,1):\n",
    "        trx_lst[random.randint(0,curr_len-1)] += 1\n",
    "    temp_lst = [str(int) for int in trx_lst]\n",
    "    line = \" \".join(temp_lst)\n",
    "    line += \"\\n\"\n",
    "    #print(line)\n",
    "    f.write(line)\n",
    "\n",
    "f.close()"
   ]
  },
  {
   "cell_type": "code",
   "execution_count": null,
   "metadata": {},
   "outputs": [],
   "source": []
  }
 ],
 "metadata": {
  "kernelspec": {
   "display_name": "Python 3",
   "language": "python",
   "name": "python3"
  },
  "language_info": {
   "codemirror_mode": {
    "name": "ipython",
    "version": 3
   },
   "file_extension": ".py",
   "mimetype": "text/x-python",
   "name": "python",
   "nbconvert_exporter": "python",
   "pygments_lexer": "ipython3",
   "version": "3.8.5"
  }
 },
 "nbformat": 4,
 "nbformat_minor": 4
}
